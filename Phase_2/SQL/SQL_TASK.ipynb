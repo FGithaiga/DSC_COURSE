{
 "cells": [
  {
   "cell_type": "markdown",
   "id": "9a56bb5e",
   "metadata": {},
   "source": [
    "# USE CASE\n",
    "## Create a student database stored as .sqlite\n",
    "Inside the database, create three tables.\n",
    "\n",
    "- One table for students = student_id, first_name, last_name, age, gender\n",
    "- Second table for courses = course_id, course_name, credits\n",
    "- Third table for enrollments = enrollment_id, student_id, course_id, enrollment_date, grade\n",
    "\n",
    "Once complete, commit and close"
   ]
  },
  {
   "cell_type": "code",
   "execution_count": 2,
   "id": "ac19e635",
   "metadata": {},
   "outputs": [],
   "source": [
    "# Import necessary libraries\n",
    "import pandas as pd \n",
    "import sqlite3"
   ]
  },
  {
   "cell_type": "code",
   "execution_count": 3,
   "id": "336ba73f",
   "metadata": {},
   "outputs": [],
   "source": [
    "# Create the database and the tables\n",
    "conn = sqlite3.connect('student_database.sqlite')\n",
    "\n",
    "#create a cursor object\n",
    "cursor = conn.cursor()\n"
   ]
  },
  {
   "cell_type": "code",
   "execution_count": 4,
   "id": "41004fc4",
   "metadata": {},
   "outputs": [
    {
     "data": {
      "text/plain": [
       "<sqlite3.Cursor at 0x1f97de44ab0>"
      ]
     },
     "execution_count": 4,
     "metadata": {},
     "output_type": "execute_result"
    }
   ],
   "source": [
    "# Create tables for student_details, course_details, and enrollment_details\n",
    "cursor.execute(\"\"\"\n",
    "CREATE TABLE IF NOT EXISTS students (\n",
    "    student_id INTEGER PRIMARY KEY,\n",
    "    first_name TEXT NOT NULL,\n",
    "    last_name TEXT NOT NULL,\n",
    "    age INTEGER NOT NULL,\n",
    "    gender TEXT NOT NULL CHECK(gender IN ('M', 'F'))\n",
    ");\n",
    "\"\"\")\n",
    "\n",
    "cursor.execute(\"\"\"\n",
    "CREATE TABLE IF NOT EXISTS courses (\n",
    "    course_id INTEGER PRIMARY KEY,\n",
    "    course_name TEXT NOT NULL,\n",
    "    credits INTEGER NOT NULL\n",
    ");\n",
    "\"\"\")\n",
    "cursor.execute(\"\"\"\n",
    "CREATE TABLE IF NOT EXISTS enrollments (\n",
    "    enrollment_id INTEGER PRIMARY KEY,\n",
    "    student_id INTEGER NOT NULL,\n",
    "    course_id INTEGER NOT NULL,\n",
    "    enrollment_date TEXT NOT NULL,\n",
    "    grade TEXT,\n",
    "    FOREIGN KEY(student_id) REFERENCES students(student_id),\n",
    "    FOREIGN KEY(course_id) REFERENCES courses(course_id)\n",
    ");\n",
    "\"\"\")\n",
    "\n",
    "\n"
   ]
  },
  {
   "cell_type": "code",
   "execution_count": 5,
   "id": "714bb14d",
   "metadata": {},
   "outputs": [],
   "source": [
    "# Insert data into the tables\n",
    "cursor.execute(\"\"\"\n",
    "INSERT INTO students (student_id, first_name, last_name, age, gender) VALUES\n",
    "(1, 'Alice', 'Wanjiku', 22, 'F'),\n",
    "(2, 'Brian', 'Omondi', 19, 'M'),\n",
    "(3, 'Catherine', 'Mutheu', 25, 'F'),\n",
    "(4, 'Daniel', 'Njoroge', 30, 'M'),\n",
    "(5, 'Eva', 'Kiptoo', 18, 'F');\n",
    "\"\"\")\n",
    "conn.commit()\n",
    "\n",
    "cursor.execute(\"\"\"\n",
    "INSERT INTO courses (course_id, course_name, credits) VALUES\n",
    "(101, 'Mathematics', 3),\n",
    "(102, 'Computer Science', 4),\n",
    "(103, 'History', 2);\n",
    "\"\"\")\n",
    "conn.commit()\n",
    "\n",
    "cursor.execute(\"\"\"\n",
    "INSERT INTO enrollments (enrollment_id, student_id, course_id, enrollment_date, grade) VALUES\n",
    "(1001, 1, 101, '2024-03-01', 85),\n",
    "(1002, 2, 102, '2024-03-02', 78),\n",
    "(1003, 4, 103, '2024-03-03', 90);\n",
    "\"\"\")\n",
    "conn.commit()\n"
   ]
  },
  {
   "cell_type": "code",
   "execution_count": null,
   "id": "d2998c7e",
   "metadata": {},
   "outputs": [],
   "source": [
    "# Connect to the database (using both the terminal and python)\n",
    "#terminal\n",
    "conn = sqlite3.connect(r'C:\\Users\\Admin\\Documents\\Phase_2\\SQL\\student_database.sqlite')\n",
    "#create a cursor\n",
    "cursor = conn.cursor()\n"
   ]
  },
  {
   "cell_type": "code",
   "execution_count": 7,
   "id": "070b886d",
   "metadata": {},
   "outputs": [
    {
     "name": "stdout",
     "output_type": "stream",
     "text": [
      "(1, 'Alice', 'Wanjiku', 22, 'F')\n",
      "(2, 'Brian', 'Omondi', 19, 'M')\n",
      "(3, 'Catherine', 'Mutheu', 25, 'F')\n",
      "(4, 'Daniel', 'Njoroge', 30, 'M')\n",
      "(5, 'Eva', 'Kiptoo', 18, 'F')\n"
     ]
    }
   ],
   "source": [
    "#Execute a query to fetch all students\n",
    "cursor.execute('SELECT * FROM students')\n",
    "rows = cursor.fetchall()\n",
    "for row in rows:\n",
    "    print(row)\n",
    "#close the connection\n",
    "conn.close()\n"
   ]
  },
  {
   "cell_type": "code",
   "execution_count": 8,
   "id": "91428eb1",
   "metadata": {},
   "outputs": [
    {
     "name": "stdout",
     "output_type": "stream",
     "text": [
      "('courses',)\n",
      "('enrollments',)\n",
      "('students',)\n"
     ]
    }
   ],
   "source": [
    "# View the existing tables\n",
    "# using sql query\n",
    "cursor.execute(\"SELECT name FROM sqlite_master WHERE type='table' ORDER BY name;\")\n",
    "tables = cursor.fetchall()\n",
    "for table in tables:\n",
    "\tprint(table)\n",
    "\n",
    "# How to view datatypes"
   ]
  },
  {
   "cell_type": "code",
   "execution_count": 9,
   "id": "0823f12e",
   "metadata": {},
   "outputs": [
    {
     "name": "stdout",
     "output_type": "stream",
     "text": [
      "(1, 'Alice', 'Wanjiku', 22, 'F')\n",
      "(3, 'Catherine', 'Mutheu', 25, 'F')\n",
      "(5, 'Eva', 'Kiptoo', 18, 'F')\n"
     ]
    }
   ],
   "source": [
    "# Select all female students\n",
    "cursor.execute(\"SELECT * FROM students WHERE gender = 'F';\")\n",
    "female_students = cursor.fetchall()\n",
    "for student in female_students:\n",
    "\tprint(student)\n"
   ]
  },
  {
   "cell_type": "code",
   "execution_count": 10,
   "id": "bb523f55",
   "metadata": {},
   "outputs": [
    {
     "name": "stdout",
     "output_type": "stream",
     "text": [
      "(4, 'Daniel', 'Njoroge', 30, 'M')\n",
      "(3, 'Catherine', 'Mutheu', 25, 'F')\n"
     ]
    }
   ],
   "source": [
    "# Show the two oldest students\n",
    "cursor.execute(\"\"\"\n",
    "SELECT * FROM students\n",
    "ORDER BY age DESC\n",
    "LIMIT 2;\n",
    "\"\"\")\n",
    "oldest_students = cursor.fetchall()\n",
    "for student in oldest_students:\n",
    "\tprint(student)\n"
   ]
  },
  {
   "cell_type": "code",
   "execution_count": 11,
   "id": "7fc28e2c",
   "metadata": {},
   "outputs": [
    {
     "name": "stdout",
     "output_type": "stream",
     "text": [
      "('F', 3)\n",
      "('M', 2)\n"
     ]
    }
   ],
   "source": [
    "# Count the students per gender\n",
    "cursor.execute(\"\"\"\n",
    "SELECT gender, COUNT(*) AS count\n",
    "FROM students\n",
    "GROUP BY gender;\n",
    "\"\"\")\n",
    "gender_counts = cursor.fetchall()\n",
    "for gender_count in gender_counts:\n",
    "\tprint(gender_count)\n"
   ]
  },
  {
   "cell_type": "code",
   "execution_count": 12,
   "id": "0621a744",
   "metadata": {},
   "outputs": [
    {
     "name": "stdout",
     "output_type": "stream",
     "text": [
      "('Alice Wanjiku',)\n",
      "('Brian Omondi',)\n",
      "('Catherine Mutheu',)\n",
      "('Daniel Njoroge',)\n",
      "('Eva Kiptoo',)\n"
     ]
    }
   ],
   "source": [
    "# Show the full names using an alias\n",
    "cursor.execute(\"\"\"\n",
    "SELECT first_name || ' ' || last_name AS full_name\n",
    "FROM students;\n",
    "\"\"\")\n",
    "full_names = cursor.fetchall()\n",
    "for full_name in full_names:\n",
    "\tprint(full_name)\n"
   ]
  },
  {
   "cell_type": "code",
   "execution_count": 13,
   "id": "7e5a41a8",
   "metadata": {},
   "outputs": [
    {
     "name": "stdout",
     "output_type": "stream",
     "text": [
      "(1, 'Alice', 'Wanjiku', 22, 'F')\n",
      "(3, 'Catherine', 'Mutheu', 25, 'F')\n",
      "(4, 'Daniel', 'Njoroge', 30, 'M')\n"
     ]
    }
   ],
   "source": [
    "# Filter the data to show the age of students above 20\n",
    "# Use both WHERE and HAVING as different queries\n",
    "# Using WHERE clause\n",
    "cursor.execute(\"\"\"\n",
    "SELECT *\n",
    "FROM students\n",
    "WHERE age > 20;\n",
    "\"\"\")\n",
    "students_above_20 = cursor.fetchall()\n",
    "for student in students_above_20:\n",
    "\tprint(student)\n"
   ]
  },
  {
   "cell_type": "code",
   "execution_count": 14,
   "id": "c2b9ba15",
   "metadata": {},
   "outputs": [
    {
     "name": "stdout",
     "output_type": "stream",
     "text": [
      "(22, 1)\n",
      "(25, 1)\n",
      "(30, 1)\n"
     ]
    }
   ],
   "source": [
    "# Using HAVING clause\n",
    "cursor.execute(\"\"\"\n",
    "SELECT age, COUNT(*) AS student_count\n",
    "FROM students\n",
    "GROUP BY age\n",
    "HAVING age > 20;\n",
    "\"\"\")\n",
    "result = cursor.fetchall()\n",
    "for row in result:\n",
    "\tprint(row)\n"
   ]
  },
  {
   "cell_type": "code",
   "execution_count": 15,
   "id": "419a6657",
   "metadata": {},
   "outputs": [
    {
     "name": "stdout",
     "output_type": "stream",
     "text": [
      "(1, 'Alice', 'Wanjiku', 'Mathematics')\n",
      "(2, 'Brian', 'Omondi', 'Computer Science')\n",
      "(4, 'Daniel', 'Njoroge', 'History')\n"
     ]
    }
   ],
   "source": [
    "# Use an inner join to show students with their course names\n",
    "cursor.execute(\"\"\"\n",
    "SELECT s.student_id, s.first_name, s.last_name, c.course_name\n",
    "FROM students s\n",
    "INNER JOIN enrollments e ON s.student_id = e.student_id\n",
    "INNER JOIN courses c ON e.course_id = c.course_id;\n",
    "\"\"\")\n",
    "result = cursor.fetchall()\n",
    "for row in result:\n",
    "\tprint(row)\n"
   ]
  },
  {
   "cell_type": "code",
   "execution_count": null,
   "id": "ae889845",
   "metadata": {},
   "outputs": [
    {
     "name": "stdout",
     "output_type": "stream",
     "text": [
      "(3, 'Catherine', 'Mutheu')\n",
      "(5, 'Eva', 'Kiptoo')\n"
     ]
    }
   ],
   "source": [
    "# Find students not enrolled in any course\n",
    "cursor.execute(\"\"\"\n",
    "SELECT s.student_id, s.first_name, s.last_name\n",
    "FROM students s\n",
    "LEFT JOIN enrollments e ON s.student_id = e.student_id\n",
    "WHERE e.course_id IS NULL;\n",
    "\"\"\")\n",
    "students_not_enrolled = cursor.fetchall()\n",
    "for student in students_not_enrolled:\n",
    "\tprint(student)\n"
   ]
  },
  {
   "cell_type": "code",
   "execution_count": null,
   "id": "b2579974",
   "metadata": {},
   "outputs": [],
   "source": [
    "# Perform all the joins\n",
    "# Inner join\n",
    "cursor.execute(\"\"\"\n",
    "SELECT s.student_id, s.first_name, c.course_name\n",
    "FROM students s\n",
    "INNER JOIN enrollments e ON s.student_id = e.student_id\n",
    "INNER JOIN courses c ON e.course_id = c.course_id;\n",
    "\"\"\")\n",
    "result = cursor.fetchall()\n",
    "for row in result:\n",
    "\tprint(row)\n",
    "\n",
    "# Left join\n",
    "cursor.execute(\"\"\"\n",
    "SELECT s.student_id, s.first_name, c.course_name\n",
    "FROM students s\n",
    "LEFT JOIN enrollments e ON s.student_id = e.student_id\n",
    "LEFT JOIN courses c ON e.course_id = c.course_id;\n",
    "\"\"\")\n",
    "result = cursor.fetchall()\n",
    "for row in result:\n",
    "\tprint(row)\n",
    "\n",
    "# Right Join \n",
    "cursor.execute(\"\"\"\n",
    "SELECT s.student_id, s.first_name, c.course_name\n",
    "FROM courses c\n",
    "LEFT JOIN enrollments e ON c.course_id = e.course_id\n",
    "LEFT JOIN students s ON e.student_id = s.student_id;\n",
    "\"\"\")\n",
    "result = cursor.fetchall()\n",
    "for row in result:\n",
    "\tprint(row)\n",
    "\n",
    "# Full outer join (simulated using UNION of LEFT JOIN and RIGHT JOIN)\n",
    "cursor.execute(\"\"\"\n",
    "SELECT s.student_id, s.first_name, c.course_name\n",
    "FROM students s\n",
    "LEFT JOIN enrollments e ON s.student_id = e.student_id\n",
    "LEFT JOIN courses c ON e.course_id = c.course_id\n",
    "UNION\n",
    "SELECT s.student_id, s.first_name, c.course_name\n",
    "FROM courses c\n",
    "LEFT JOIN enrollments e ON c.course_id = e.course_id\n",
    "LEFT JOIN students s ON e.student_id = s.student_id;\n",
    "\"\"\")\n",
    "result = cursor.fetchall()\n",
    "for row in result:\n",
    "\tprint(row)\n"
   ]
  },
  {
   "cell_type": "code",
   "execution_count": null,
   "id": "efe21915",
   "metadata": {},
   "outputs": [],
   "source": [
    "# Explain the relationships\n",
    "# If not existing, add tables to help show all the relationships\n"
   ]
  }
 ],
 "metadata": {
  "kernelspec": {
   "display_name": "learn-env",
   "language": "python",
   "name": "python3"
  },
  "language_info": {
   "codemirror_mode": {
    "name": "ipython",
    "version": 3
   },
   "file_extension": ".py",
   "mimetype": "text/x-python",
   "name": "python",
   "nbconvert_exporter": "python",
   "pygments_lexer": "ipython3",
   "version": "3.8.5"
  }
 },
 "nbformat": 4,
 "nbformat_minor": 5
}
