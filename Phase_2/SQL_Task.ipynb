{
 "cells": [
  {
   "cell_type": "markdown",
   "id": "9a56bb5e",
   "metadata": {},
   "source": [
    "# USE CASE\n",
    "## Create a student database stored as .sqlite\n",
    "Inside the database, create three tables.\n",
    "\n",
    "- One table for students = student_id, first_name, last_name, age, gender\n",
    "- Second table for courses = course_id, course_name, credits\n",
    "- Third table for enrollments = enrollment_id, student_id, course_id, enrollment_date, grade\n",
    "\n",
    "Once complete, commit and close"
   ]
  },
  {
   "cell_type": "code",
   "execution_count": null,
   "id": "ac19e635",
   "metadata": {},
   "outputs": [],
   "source": [
    "# Import necessary libraries\n"
   ]
  },
  {
   "cell_type": "code",
   "execution_count": null,
   "id": "336ba73f",
   "metadata": {},
   "outputs": [],
   "source": [
    "# Create the database and the tables\n"
   ]
  },
  {
   "cell_type": "code",
   "execution_count": null,
   "id": "714bb14d",
   "metadata": {},
   "outputs": [],
   "source": [
    "# Insert data into the tables\n"
   ]
  },
  {
   "cell_type": "code",
   "execution_count": null,
   "id": "d2998c7e",
   "metadata": {},
   "outputs": [],
   "source": [
    "# Connect to the database (using both the terminal and python)\n"
   ]
  },
  {
   "cell_type": "code",
   "execution_count": null,
   "id": "91428eb1",
   "metadata": {},
   "outputs": [],
   "source": [
    "# View the existing tables\n"
   ]
  },
  {
   "cell_type": "code",
   "execution_count": null,
   "id": "0823f12e",
   "metadata": {},
   "outputs": [],
   "source": [
    "# Select all female students\n"
   ]
  },
  {
   "cell_type": "code",
   "execution_count": null,
   "id": "bb523f55",
   "metadata": {},
   "outputs": [],
   "source": [
    "# Show the two oldest students\n"
   ]
  },
  {
   "cell_type": "code",
   "execution_count": null,
   "id": "7fc28e2c",
   "metadata": {},
   "outputs": [],
   "source": [
    "# Count the students per gender\n"
   ]
  },
  {
   "cell_type": "code",
   "execution_count": null,
   "id": "0621a744",
   "metadata": {},
   "outputs": [],
   "source": [
    "# Show the full names using an alias\n"
   ]
  },
  {
   "cell_type": "code",
   "execution_count": null,
   "id": "7e5a41a8",
   "metadata": {},
   "outputs": [],
   "source": [
    "# Filter the data to show the age of students above 20\n",
    "# Use both WHERE and HAVING as different queries\n"
   ]
  },
  {
   "cell_type": "code",
   "execution_count": null,
   "id": "1ea5ebe8",
   "metadata": {},
   "outputs": [],
   "source": [
    "# Use an inner join to show students with their course names\n"
   ]
  },
  {
   "cell_type": "code",
   "execution_count": null,
   "id": "ae889845",
   "metadata": {},
   "outputs": [],
   "source": [
    "# Find students not enrolled in any course\n"
   ]
  },
  {
   "cell_type": "code",
   "execution_count": null,
   "id": "b2579974",
   "metadata": {},
   "outputs": [],
   "source": [
    "# Perform all the joins\n"
   ]
  },
  {
   "cell_type": "code",
   "execution_count": null,
   "id": "efe21915",
   "metadata": {},
   "outputs": [],
   "source": [
    "# Explain the relationships\n",
    "# If not existing, add tables to help show all the relationships\n"
   ]
  }
 ],
 "metadata": {
  "kernelspec": {
   "display_name": "Python (learn-env)",
   "language": "python",
   "name": "learn-env"
  },
  "language_info": {
   "codemirror_mode": {
    "name": "ipython",
    "version": 3
   },
   "file_extension": ".py",
   "mimetype": "text/x-python",
   "name": "python",
   "nbconvert_exporter": "python",
   "pygments_lexer": "ipython3",
   "version": "3.8.5"
  }
 },
 "nbformat": 4,
 "nbformat_minor": 5
}
