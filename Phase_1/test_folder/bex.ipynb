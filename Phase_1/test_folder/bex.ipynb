{
 "cells": [
  {
   "cell_type": "code",
   "execution_count": 1,
   "id": "341f0524-425c-46c0-bea6-487a1a44c821",
   "metadata": {},
   "outputs": [
    {
     "name": "stdout",
     "output_type": "stream",
     "text": [
      "my name faith,my email DSF-FT-12\n",
      "None\n"
     ]
    }
   ],
   "source": [
    "def student_details(name, email):\n",
    "    print(f\"my name {name},my email {email}\")\n",
    "user_input =student_details (\"faith\", \"DSF-FT-12\")\n",
    "print(user_input)\n",
    "    "
   ]
  },
  {
   "cell_type": "code",
   "execution_count": null,
   "id": "59a21576-43d7-4cc8-ab23-cd4187967b05",
   "metadata": {},
   "outputs": [],
   "source": []
  }
 ],
 "metadata": {
  "kernelspec": {
   "display_name": "Python [conda env:base] *",
   "language": "python",
   "name": "conda-base-py"
  },
  "language_info": {
   "codemirror_mode": {
    "name": "ipython",
    "version": 3
   },
   "file_extension": ".py",
   "mimetype": "text/x-python",
   "name": "python",
   "nbconvert_exporter": "python",
   "pygments_lexer": "ipython3",
   "version": "3.11.7"
  }
 },
 "nbformat": 4,
 "nbformat_minor": 5
}
